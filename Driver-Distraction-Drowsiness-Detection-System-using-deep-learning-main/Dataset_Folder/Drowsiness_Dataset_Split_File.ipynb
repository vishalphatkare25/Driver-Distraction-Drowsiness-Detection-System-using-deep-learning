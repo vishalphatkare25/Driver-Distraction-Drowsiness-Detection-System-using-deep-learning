{
  "nbformat": 4,
  "nbformat_minor": 0,
  "metadata": {
    "colab": {
      "provenance": [],
      "gpuType": "T4",
      "authorship_tag": "ABX9TyOa2Pr9JSMCj7ds6RjSxg7v",
      "include_colab_link": true
    },
    "kernelspec": {
      "name": "python3",
      "display_name": "Python 3"
    },
    "language_info": {
      "name": "python"
    },
    "accelerator": "GPU"
  },
  "cells": [
    {
      "cell_type": "markdown",
      "metadata": {
        "id": "view-in-github",
        "colab_type": "text"
      },
      "source": [
        "<a href=\"https://colab.research.google.com/github/Gaurav-phatkare/Driver-Distraction-Drowsiness-Detection-System-using-deep-learning/blob/main/Dataset_Folder/Drowsiness_Dataset_Split_File.ipynb\" target=\"_parent\"><img src=\"https://colab.research.google.com/assets/colab-badge.svg\" alt=\"Open In Colab\"/></a>"
      ]
    },
    {
      "cell_type": "code",
      "execution_count": 1,
      "metadata": {
        "id": "42-nBWtpNabh",
        "colab": {
          "base_uri": "https://localhost:8080/"
        },
        "outputId": "989ad7ee-856d-4740-a762-7b89f5c749c3"
      },
      "outputs": [
        {
          "output_type": "stream",
          "name": "stdout",
          "text": [
            "Mounted at /content/drive/\n"
          ]
        }
      ],
      "source": [
        "from google.colab import drive\n",
        "drive.mount('/content/drive/')"
      ]
    },
    {
      "cell_type": "code",
      "source": [
        "import tensorflow as tf\n",
        "import cv2\n",
        "import os\n",
        "import matplotlib.pyplot as plt\n",
        "import numpy as np"
      ],
      "metadata": {
        "id": "Nk52F7BcszT1"
      },
      "execution_count": 2,
      "outputs": []
    },
    {
      "cell_type": "code",
      "source": [
        "dataset_path = \"/content/drive/MyDrive/Driver Distraction & Drowsiness detection Using Tensorflow/Driver Drowsiness Detection/Dataset/mrlEyes_2018_01_1\"\n",
        "\n",
        "for dirpath, dirnames, filenames in os.walk(dataset_path):\n",
        "  print(f\"There are {len(dirnames)} directories and {len(filenames)} images in '{dirpath}'.\")\n"
      ],
      "metadata": {
        "id": "AwL25bI6onoF",
        "colab": {
          "base_uri": "https://localhost:8080/"
        },
        "outputId": "ae929404-d67f-46a1-9b58-39f823bbef12"
      },
      "execution_count": 4,
      "outputs": [
        {
          "output_type": "stream",
          "name": "stdout",
          "text": [
            "There are 37 directories and 2 images in '/content/drive/MyDrive/Driver Distraction & Drowsiness detection Using Tensorflow/Driver Drowsiness Detection/Dataset/mrlEyes_2018_01_1'.\n",
            "There are 0 directories and 8728 images in '/content/drive/MyDrive/Driver Distraction & Drowsiness detection Using Tensorflow/Driver Drowsiness Detection/Dataset/mrlEyes_2018_01_1/s0012'.\n",
            "There are 0 directories and 3605 images in '/content/drive/MyDrive/Driver Distraction & Drowsiness detection Using Tensorflow/Driver Drowsiness Detection/Dataset/mrlEyes_2018_01_1/s0013'.\n",
            "There are 0 directories and 8884 images in '/content/drive/MyDrive/Driver Distraction & Drowsiness detection Using Tensorflow/Driver Drowsiness Detection/Dataset/mrlEyes_2018_01_1/s0014'.\n",
            "There are 0 directories and 1132 images in '/content/drive/MyDrive/Driver Distraction & Drowsiness detection Using Tensorflow/Driver Drowsiness Detection/Dataset/mrlEyes_2018_01_1/s0015'.\n",
            "There are 0 directories and 4410 images in '/content/drive/MyDrive/Driver Distraction & Drowsiness detection Using Tensorflow/Driver Drowsiness Detection/Dataset/mrlEyes_2018_01_1/s0018'.\n",
            "There are 0 directories and 6175 images in '/content/drive/MyDrive/Driver Distraction & Drowsiness detection Using Tensorflow/Driver Drowsiness Detection/Dataset/mrlEyes_2018_01_1/s0019'.\n",
            "There are 0 directories and 704 images in '/content/drive/MyDrive/Driver Distraction & Drowsiness detection Using Tensorflow/Driver Drowsiness Detection/Dataset/mrlEyes_2018_01_1/s0020'.\n",
            "There are 0 directories and 987 images in '/content/drive/MyDrive/Driver Distraction & Drowsiness detection Using Tensorflow/Driver Drowsiness Detection/Dataset/mrlEyes_2018_01_1/s0021'.\n",
            "There are 0 directories and 3242 images in '/content/drive/MyDrive/Driver Distraction & Drowsiness detection Using Tensorflow/Driver Drowsiness Detection/Dataset/mrlEyes_2018_01_1/s0001'.\n",
            "There are 0 directories and 1114 images in '/content/drive/MyDrive/Driver Distraction & Drowsiness detection Using Tensorflow/Driver Drowsiness Detection/Dataset/mrlEyes_2018_01_1/s0002'.\n",
            "There are 0 directories and 679 images in '/content/drive/MyDrive/Driver Distraction & Drowsiness detection Using Tensorflow/Driver Drowsiness Detection/Dataset/mrlEyes_2018_01_1/s0003'.\n",
            "There are 0 directories and 1069 images in '/content/drive/MyDrive/Driver Distraction & Drowsiness detection Using Tensorflow/Driver Drowsiness Detection/Dataset/mrlEyes_2018_01_1/s0004'.\n",
            "There are 0 directories and 736 images in '/content/drive/MyDrive/Driver Distraction & Drowsiness detection Using Tensorflow/Driver Drowsiness Detection/Dataset/mrlEyes_2018_01_1/s0005'.\n",
            "There are 0 directories and 1012 images in '/content/drive/MyDrive/Driver Distraction & Drowsiness detection Using Tensorflow/Driver Drowsiness Detection/Dataset/mrlEyes_2018_01_1/s0006'.\n",
            "There are 0 directories and 624 images in '/content/drive/MyDrive/Driver Distraction & Drowsiness detection Using Tensorflow/Driver Drowsiness Detection/Dataset/mrlEyes_2018_01_1/s0007'.\n",
            "There are 0 directories and 832 images in '/content/drive/MyDrive/Driver Distraction & Drowsiness detection Using Tensorflow/Driver Drowsiness Detection/Dataset/mrlEyes_2018_01_1/s0008'.\n",
            "There are 0 directories and 387 images in '/content/drive/MyDrive/Driver Distraction & Drowsiness detection Using Tensorflow/Driver Drowsiness Detection/Dataset/mrlEyes_2018_01_1/s0009'.\n",
            "There are 0 directories and 399 images in '/content/drive/MyDrive/Driver Distraction & Drowsiness detection Using Tensorflow/Driver Drowsiness Detection/Dataset/mrlEyes_2018_01_1/s0010'.\n",
            "There are 0 directories and 1648 images in '/content/drive/MyDrive/Driver Distraction & Drowsiness detection Using Tensorflow/Driver Drowsiness Detection/Dataset/mrlEyes_2018_01_1/s0011'.\n",
            "There are 0 directories and 382 images in '/content/drive/MyDrive/Driver Distraction & Drowsiness detection Using Tensorflow/Driver Drowsiness Detection/Dataset/mrlEyes_2018_01_1/s0022'.\n",
            "There are 0 directories and 522 images in '/content/drive/MyDrive/Driver Distraction & Drowsiness detection Using Tensorflow/Driver Drowsiness Detection/Dataset/mrlEyes_2018_01_1/s0023'.\n",
            "There are 0 directories and 752 images in '/content/drive/MyDrive/Driver Distraction & Drowsiness detection Using Tensorflow/Driver Drowsiness Detection/Dataset/mrlEyes_2018_01_1/s0024'.\n",
            "There are 0 directories and 1502 images in '/content/drive/MyDrive/Driver Distraction & Drowsiness detection Using Tensorflow/Driver Drowsiness Detection/Dataset/mrlEyes_2018_01_1/s0025'.\n",
            "There are 0 directories and 1246 images in '/content/drive/MyDrive/Driver Distraction & Drowsiness detection Using Tensorflow/Driver Drowsiness Detection/Dataset/mrlEyes_2018_01_1/s0026'.\n",
            "There are 0 directories and 665 images in '/content/drive/MyDrive/Driver Distraction & Drowsiness detection Using Tensorflow/Driver Drowsiness Detection/Dataset/mrlEyes_2018_01_1/s0027'.\n",
            "There are 0 directories and 736 images in '/content/drive/MyDrive/Driver Distraction & Drowsiness detection Using Tensorflow/Driver Drowsiness Detection/Dataset/mrlEyes_2018_01_1/s0028'.\n",
            "There are 0 directories and 1393 images in '/content/drive/MyDrive/Driver Distraction & Drowsiness detection Using Tensorflow/Driver Drowsiness Detection/Dataset/mrlEyes_2018_01_1/s0029'.\n",
            "There are 0 directories and 1384 images in '/content/drive/MyDrive/Driver Distraction & Drowsiness detection Using Tensorflow/Driver Drowsiness Detection/Dataset/mrlEyes_2018_01_1/s0030'.\n",
            "There are 0 directories and 6162 images in '/content/drive/MyDrive/Driver Distraction & Drowsiness detection Using Tensorflow/Driver Drowsiness Detection/Dataset/mrlEyes_2018_01_1/s0032'.\n",
            "There are 0 directories and 681 images in '/content/drive/MyDrive/Driver Distraction & Drowsiness detection Using Tensorflow/Driver Drowsiness Detection/Dataset/mrlEyes_2018_01_1/s0033'.\n",
            "There are 0 directories and 739 images in '/content/drive/MyDrive/Driver Distraction & Drowsiness detection Using Tensorflow/Driver Drowsiness Detection/Dataset/mrlEyes_2018_01_1/s0034'.\n",
            "There are 0 directories and 642 images in '/content/drive/MyDrive/Driver Distraction & Drowsiness detection Using Tensorflow/Driver Drowsiness Detection/Dataset/mrlEyes_2018_01_1/s0035'.\n",
            "There are 0 directories and 1889 images in '/content/drive/MyDrive/Driver Distraction & Drowsiness detection Using Tensorflow/Driver Drowsiness Detection/Dataset/mrlEyes_2018_01_1/s0016'.\n",
            "There are 0 directories and 1648 images in '/content/drive/MyDrive/Driver Distraction & Drowsiness detection Using Tensorflow/Driver Drowsiness Detection/Dataset/mrlEyes_2018_01_1/s0017'.\n",
            "There are 0 directories and 6193 images in '/content/drive/MyDrive/Driver Distraction & Drowsiness detection Using Tensorflow/Driver Drowsiness Detection/Dataset/mrlEyes_2018_01_1/s0036'.\n",
            "There are 0 directories and 10257 images in '/content/drive/MyDrive/Driver Distraction & Drowsiness detection Using Tensorflow/Driver Drowsiness Detection/Dataset/mrlEyes_2018_01_1/s0037'.\n",
            "There are 0 directories and 1738 images in '/content/drive/MyDrive/Driver Distraction & Drowsiness detection Using Tensorflow/Driver Drowsiness Detection/Dataset/mrlEyes_2018_01_1/s0031'.\n"
          ]
        }
      ]
    },
    {
      "cell_type": "code",
      "source": [
        "files = 0\n",
        "for _, _, filenames in os.walk(dataset_path):\n",
        "  files += len(filenames)\n",
        "\n",
        "print(f\"Total images in dataset : {files}\")"
      ],
      "metadata": {
        "colab": {
          "base_uri": "https://localhost:8080/"
        },
        "id": "4zNwxnUTs4hi",
        "outputId": "9151f08a-958e-4c02-a8f1-ca42d5ce1b20"
      },
      "execution_count": 5,
      "outputs": [
        {
          "output_type": "stream",
          "name": "stdout",
          "text": [
            "Total images in dataset : 84900\n"
          ]
        }
      ]
    },
    {
      "cell_type": "code",
      "source": [
        "file = \"s001_00123_0_0_5_2_3_01.png\"\n",
        "eye_state = file.split('_')[4]\n",
        "eye_state"
      ],
      "metadata": {
        "colab": {
          "base_uri": "https://localhost:8080/",
          "height": 36
        },
        "id": "8EyIM1e7ATmD",
        "outputId": "ee7c9420-7ef2-4400-a654-dcee8eff245e"
      },
      "execution_count": 6,
      "outputs": [
        {
          "output_type": "execute_result",
          "data": {
            "text/plain": [
              "'5'"
            ],
            "application/vnd.google.colaboratory.intrinsic+json": {
              "type": "string"
            }
          },
          "metadata": {},
          "execution_count": 6
        }
      ]
    },
    {
      "cell_type": "code",
      "source": [
        "# eye_directory = '/content/drive/MyDrive/Driver Distraction & Drowsiness detection Using Tensorflow/Driver Drowsiness Detection/Dataset/Categorized_Eye_data'"
      ],
      "metadata": {
        "id": "eBJwPAOsEZIs"
      },
      "execution_count": 12,
      "outputs": []
    },
    {
      "cell_type": "markdown",
      "source": [
        "### split root folder into train test val folders"
      ],
      "metadata": {
        "id": "V4sWd3HLEEux"
      }
    },
    {
      "cell_type": "code",
      "source": [
        "import os\n",
        "import shutil\n",
        "import random\n",
        "\n",
        "def split_dataset(input_folder, output_folder, split_ratio=(0.75, 0.2, 0.05), random_seed=42):\n",
        "\n",
        "    random.seed(random_seed)\n",
        "\n",
        "    for root, dirs, files in os.walk(input_folder):\n",
        "        for person_folder in dirs:\n",
        "            person_path = os.path.join(root, person_folder)\n",
        "            image_files = [f for f in os.listdir(person_path) if f.endswith(\".png\")]\n",
        "\n",
        "\n",
        "            random.shuffle(image_files)\n",
        "\n",
        "\n",
        "            total_images = len(image_files)\n",
        "            num_train = int(split_ratio[0] * total_images)\n",
        "            num_val = int(split_ratio[1] * total_images)\n",
        "            num_test = total_images - num_train - num_val\n",
        "\n",
        "            # Split the images\n",
        "            train_images = image_files[:num_train]\n",
        "            val_images = image_files[num_train:num_train + num_val]\n",
        "            test_images = image_files[num_train + num_val:]\n",
        "\n",
        "            # Create output directories if they don't exist\n",
        "            for dataset_type in ['training_dataset', 'validation_dataset', 'test_dataset']:\n",
        "                for eye_state in ['closed_eye', 'open_eye']:\n",
        "                    output_path = os.path.join(output_folder, dataset_type, eye_state)\n",
        "                    os.makedirs(output_path, exist_ok=True)\n",
        "\n",
        "            # Copy images to their respective folders based on eye state\n",
        "            for image in train_images:\n",
        "                eye_state = int(image.split('_')[4])\n",
        "                closed_eye_directory = os.path.join(output_folder, 'training_dataset', 'closed_eye')\n",
        "                open_eye_directory = os.path.join(output_folder, 'training_dataset', 'open_eye')\n",
        "                destination_directory = open_eye_directory if eye_state == 1 else closed_eye_directory\n",
        "                shutil.copy(os.path.join(person_path, image), os.path.join(destination_directory, image))\n",
        "\n",
        "            for image in val_images:\n",
        "                eye_state = int(image.split('_')[4])\n",
        "                closed_eye_directory = os.path.join(output_folder, 'validation_dataset', 'closed_eye')\n",
        "                open_eye_directory = os.path.join(output_folder, 'validation_dataset', 'open_eye')\n",
        "                destination_directory = open_eye_directory if eye_state == 1 else closed_eye_directory\n",
        "                shutil.copy(os.path.join(person_path, image), os.path.join(destination_directory, image))\n",
        "\n",
        "            for image in test_images:\n",
        "                eye_state = int(image.split('_')[4])\n",
        "                closed_eye_directory = os.path.join(output_folder, 'test_dataset', 'closed_eye')\n",
        "                open_eye_directory = os.path.join(output_folder, 'test_dataset', 'open_eye')\n",
        "                destination_directory = open_eye_directory if eye_state == 1 else closed_eye_directory\n",
        "                shutil.copy(os.path.join(person_path, image), os.path.join(destination_directory, image))\n",
        "\n",
        "main_dataset_folder = '/content/drive/MyDrive/Driver Distraction & Drowsiness detection Using Tensorflow/Driver Drowsiness Detection/Dataset/mrlEyes_2018_01_1'\n",
        "output_folder = '/content/drive/MyDrive/Driver Distraction & Drowsiness detection Using Tensorflow/Driver Drowsiness Detection/Dataset/EyeDatasetFinal'\n",
        "split_dataset(main_dataset_folder, output_folder)\n"
      ],
      "metadata": {
        "id": "zoySzHGBE1Ou"
      },
      "execution_count": 7,
      "outputs": []
    },
    {
      "cell_type": "markdown",
      "source": [
        "### file structure after executing above code"
      ],
      "metadata": {
        "id": "Uw_EHtGY-mA9"
      }
    },
    {
      "cell_type": "code",
      "source": [
        "import os\n",
        "\n",
        "def print_directory_structure(directory, indent=0):\n",
        "    for item in os.listdir(directory):\n",
        "        path = os.path.join(directory, item)\n",
        "        if os.path.isdir(path):\n",
        "            print(f\"{'    ' * indent}{os.path.basename(path)} - {len(os.listdir(path))} files\")\n",
        "            print_directory_structure(path, indent + 1)\n",
        "\n",
        "eye_directory = '/content/drive/MyDrive/Driver Distraction & Drowsiness detection Using Tensorflow/Driver Drowsiness Detection/Dataset/EyeDatasetFinal'\n",
        "\n",
        "print_directory_structure(eye_directory)"
      ],
      "metadata": {
        "colab": {
          "base_uri": "https://localhost:8080/"
        },
        "id": "fFFz5rKFRBrD",
        "outputId": "9fc4a1cd-4aed-4988-965e-5a801544a638"
      },
      "execution_count": 19,
      "outputs": [
        {
          "output_type": "stream",
          "name": "stdout",
          "text": [
            "training_dataset - 2 files\n",
            "    closed_eye - 31497 files\n",
            "    open_eye - 32164 files\n",
            "validation_dataset - 2 files\n",
            "    closed_eye - 8372 files\n",
            "    open_eye - 8590 files\n",
            "test_dataset - 2 files\n",
            "    closed_eye - 2077 files\n",
            "    open_eye - 2198 files\n"
          ]
        }
      ]
    },
    {
      "cell_type": "code",
      "source": [
        "files = 0\n",
        "for _, _, filenames in os.walk(eye_directory):\n",
        "  files += len(filenames)\n",
        "\n",
        "print(f\"Total images in dataset : {files}\")"
      ],
      "metadata": {
        "colab": {
          "base_uri": "https://localhost:8080/"
        },
        "id": "QT2sBk3_5ciB",
        "outputId": "e92b8a7e-2291-476a-f451-023ad036bf24"
      },
      "execution_count": 21,
      "outputs": [
        {
          "output_type": "stream",
          "name": "stdout",
          "text": [
            "Total images in dataset : 84898\n"
          ]
        }
      ]
    },
    {
      "cell_type": "code",
      "source": [],
      "metadata": {
        "id": "eFpvGKajAYVd"
      },
      "execution_count": null,
      "outputs": []
    }
  ]
}